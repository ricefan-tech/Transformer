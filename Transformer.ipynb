{
  "nbformat": 4,
  "nbformat_minor": 0,
  "metadata": {
    "colab": {
      "provenance": [],
      "authorship_tag": "ABX9TyO6lV/Nl3fI99KjJ5k1sEm7",
      "include_colab_link": true
    },
    "kernelspec": {
      "name": "python3",
      "display_name": "Python 3"
    },
    "language_info": {
      "name": "python"
    }
  },
  "cells": [
    {
      "cell_type": "markdown",
      "metadata": {
        "id": "view-in-github",
        "colab_type": "text"
      },
      "source": [
        "<a href=\"https://colab.research.google.com/github/ricefan-tech/Transformer/blob/main/Transformer.ipynb\" target=\"_parent\"><img src=\"https://colab.research.google.com/assets/colab-badge.svg\" alt=\"Open In Colab\"/></a>"
      ]
    },
    {
      "cell_type": "code",
      "execution_count": null,
      "metadata": {
        "id": "5piw-2i58b4C"
      },
      "outputs": [],
      "source": []
    },
    {
      "cell_type": "markdown",
      "source": [
        "# Imports"
      ],
      "metadata": {
        "id": "irw8lup7_mTN"
      }
    },
    {
      "cell_type": "code",
      "source": [
        "import torch\n",
        "import torch.nn as nn\n",
        "import math\n",
        "import torch.nn.functional as F"
      ],
      "metadata": {
        "id": "8vIrgeGg_r6D"
      },
      "execution_count": 5,
      "outputs": []
    },
    {
      "cell_type": "code",
      "source": [
        "class MyEmbedding(nn.Module):\n",
        "  def __init__(self, d_model, vocab_size):\n",
        "    super().__init__()\n",
        "    self.embedding = nn.Embedding(vocab_size, d_model)\n",
        "\n",
        "  def forward(self, input):\n",
        "    return self.embedding(input)\n",
        "\n",
        "class MyPositionalEncoding(nn.Module):\n",
        "  def __init__(self, seq_len, d_model):\n",
        "    super().__init__()\n",
        "    self.positionalEncoding = nn.Linear(seq_len, d_model, bias=False)\n",
        "\n",
        "  def forward(self, input):\n",
        "    return input + self.positionalEncoding\n",
        "\n",
        "class MyMultiHeadAttention(nn.Module):\n",
        "  def __init__(self, d_model, num_heads):\n",
        "    super().__init__()\n",
        "    self.Q_proj = nn.Linear(d_model, d_model, bias=False)\n",
        "    self.K_proj = nn.Linear(d_model, d_model, bias=False)\n",
        "    self.V_proj = nn.Linear(d_model, d_model, bias=False)\n",
        "    self.num_heads = num_heads\n",
        "\n",
        "  def forward(self, q_input, v_input, k_input, padding_mask=None, causal_mask=None):\n",
        "    Q = self.Q_matrix(q_input) # now has shape (batch_size, seq_len, d_model)\n",
        "    K = self.K_proj(k_input)\n",
        "    V = self.V_matrix(v_input)\n",
        "\n",
        "    # before attn score calculation need to reshape into multi head\n",
        "    batch_size, seq_len, d_model = Q.size()\n",
        "    Q = Q.reshape(batch_size, seq_len, self.num_heads, d_model//self.num_heads).transpose(1, 2) #d_model must be divisible by num_heads\n",
        "    K = K.reshape(batch_size, seq_len, self.num_heads, d_model//self.num_heads).transpose(1, 2)\n",
        "    V = V.reshape(batch_size, seq_len, self.num_heads, d_model//self.num_heads).transpose(1, 2)\n",
        "\n",
        "    if padding_mask:\n",
        "      # padding mask is of shape (batch_size, seq_len), needs to be broadcasted to match Q@K.T which is (batch_size, num_head, seq_len, seq_len)\n",
        "      padding_mask = padding_mask.unsqueeze(1).unsqueeze(2)\n",
        "      attention_scores = Q @ K.transpose(-2, -1) / math.sqrt(d_model//self.num_heads)\n",
        "      attention_scores = attention_scores.masked_fill(padding_mask, float(\"-inf\"))\n",
        "\n",
        "    else:\n",
        "      attention_scors = Q @ K.transpose(-2, -1) / math.sqrt(d_model//self.num_heads)\n",
        "\n",
        "    if causal_mask:\n",
        "      # causal_mask is lower triangular matrix of shape target_seq_len, target_seq_len\n",
        "      causal_mask = causal_mask.unsqueeze(1).unsqueeze(2)\n",
        "      attention_scores = attention_scores.masked_fill(causal_mask, float(\"-inf\"))\n",
        "\n",
        "    attention_weights = torch.nn.softmax(attention_scores, dim=-1) @ V # is shape (batch_size, num_head, seq_len, head_dim)\n",
        "    return attention_weights.reshape(batch_size, seq_len, d_model)\n",
        "\n",
        "\n",
        "class FeedForwardNetwork(nn.Module):\n",
        "  def __init__(self, d_model, ff_hidden):\n",
        "    super().__init__()\n",
        "    self.layer1 = nn.Linear(d_model, ff_hidden)\n",
        "    self.layer2 = nn.Linear(ff_hidden, d_model)\n",
        "\n",
        "  def forward(self, input):\n",
        "    return self.layer2(nn.ReLU(self.layer1(input)))\n",
        "\n",
        "\n",
        "class LayerNorm(nn.Module):\n",
        "  def __init__(self, d_model, eps=1e-6):\n",
        "    super().__init__()\n",
        "    self.eps = eps #stabuliser for division\n",
        "\n",
        "    self.gamma = nn.Parameter(torch.ones(d_model))\n",
        "    self.beta = nn.Parameter(torch.zeros(d_model))\n",
        "\n",
        "  def forward(self, input):\n",
        "    mean = input.mean(dim=-1, keepdim=True)\n",
        "    var = input.var(dim=-1, keepdim=True) #keeps broadcasted shape\n",
        "    normalised_input = (input - mean)/ math.sqrt(var)\n",
        "    return self.gamma * normalised_input + self.beta"
      ],
      "metadata": {
        "id": "gGrtzWzb_u_l"
      },
      "execution_count": null,
      "outputs": []
    },
    {
      "cell_type": "code",
      "source": [
        "attention_scores = torch.tensor([[[0.2, 0.4, 0.1],\n",
        "                                  [0.5, 0.3, 0.2]]])\n",
        "attention_scores.size()"
      ],
      "metadata": {
        "colab": {
          "base_uri": "https://localhost:8080/"
        },
        "id": "PsIV6xlvF1Af",
        "outputId": "96d27d2e-b210-4721-bb1e-f775c41b7a52"
      },
      "execution_count": 4,
      "outputs": [
        {
          "output_type": "execute_result",
          "data": {
            "text/plain": [
              "torch.Size([1, 2, 3])"
            ]
          },
          "metadata": {},
          "execution_count": 4
        }
      ]
    },
    {
      "cell_type": "markdown",
      "source": [],
      "metadata": {
        "id": "sRZb2b9jEca1"
      }
    }
  ]
}