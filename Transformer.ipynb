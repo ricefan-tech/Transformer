{
  "nbformat": 4,
  "nbformat_minor": 0,
  "metadata": {
    "colab": {
      "provenance": [],
      "gpuType": "T4",
      "authorship_tag": "ABX9TyPD41EhjLhwXueuQtOIX/Af",
      "include_colab_link": true
    },
    "kernelspec": {
      "name": "python3",
      "display_name": "Python 3"
    },
    "language_info": {
      "name": "python"
    },
    "accelerator": "GPU"
  },
  "cells": [
    {
      "cell_type": "markdown",
      "metadata": {
        "id": "view-in-github",
        "colab_type": "text"
      },
      "source": [
        "<a href=\"https://colab.research.google.com/github/ricefan-tech/Transformer/blob/main/Transformer.ipynb\" target=\"_parent\"><img src=\"https://colab.research.google.com/assets/colab-badge.svg\" alt=\"Open In Colab\"/></a>"
      ]
    },
    {
      "cell_type": "code",
      "execution_count": null,
      "metadata": {
        "id": "5piw-2i58b4C"
      },
      "outputs": [],
      "source": []
    },
    {
      "cell_type": "markdown",
      "source": [
        "# Imports"
      ],
      "metadata": {
        "id": "irw8lup7_mTN"
      }
    },
    {
      "cell_type": "code",
      "source": [
        "import torch\n",
        "import torch.nn as nn\n",
        "import math\n",
        "import torch.nn.functional as F\n",
        "import pdb\n"
      ],
      "metadata": {
        "id": "8vIrgeGg_r6D"
      },
      "execution_count": 1,
      "outputs": []
    },
    {
      "cell_type": "markdown",
      "source": [
        "# Transformer skeleton"
      ],
      "metadata": {
        "id": "8Wv7fj0ERRV8"
      }
    },
    {
      "cell_type": "code",
      "source": [
        "class MyEmbedding(nn.Module):\n",
        "  def __init__(self, d_model, vocab_size):\n",
        "    super().__init__()\n",
        "    self.embedding = nn.Embedding(vocab_size, d_model)\n",
        "\n",
        "  def forward(self, input):\n",
        "    return self.embedding(input)\n",
        "\n",
        "class MyPositionalEncoding(nn.Module):\n",
        "  def __init__(self, max_seq_len, d_model):\n",
        "    super().__init__()\n",
        "    self.positionalEncoding = nn.Embedding(max_seq_len, d_model)\n",
        "\n",
        "  def forward(self, input):\n",
        "    # embeddings look up the positions of the input entries and give the d_model-dimensional embedding\n",
        "    # pdb.set_trace()\n",
        "    seq_len = input.size(1)\n",
        "    positional_encoding = self.positionalEncoding(torch.arange(seq_len, device=input.device)).unsqueeze(0) # need 2 dimension for broadcasting, and size(1) is seq\n",
        "    return positional_encoding\n",
        "\n",
        "class MyMultiHeadAttention(nn.Module):\n",
        "  def __init__(self, d_model, num_heads):\n",
        "    super().__init__()\n",
        "    self.Q_proj = nn.Linear(d_model, d_model, bias=False)\n",
        "    self.K_proj = nn.Linear(d_model, d_model, bias=False)\n",
        "    self.V_proj = nn.Linear(d_model, d_model, bias=False)\n",
        "    self.num_heads = num_heads\n",
        "\n",
        "  def forward(self, q_input, v_input, k_input, padding_mask=None, causal_mask=None):\n",
        "\n",
        "    Q = self.Q_proj(q_input) # now has shape (batch_size, seq_len, d_model)\n",
        "    K = self.K_proj(k_input)\n",
        "    V = self.V_proj(v_input)\n",
        "\n",
        "    # before attn score calculation need to reshape into multi head\n",
        "    batch_size, seq_len, d_model = Q.size()\n",
        "    Q = Q.reshape(batch_size, seq_len, self.num_heads, d_model//self.num_heads).transpose(1, 2) #d_model must be divisible by num_heads\n",
        "    K = K.reshape(batch_size, seq_len, self.num_heads, d_model//self.num_heads).transpose(1, 2)\n",
        "    V = V.reshape(batch_size, seq_len, self.num_heads, d_model//self.num_heads).transpose(1, 2)\n",
        "\n",
        "    if padding_mask is not None:\n",
        "      # padding mask is of shape (batch_size, seq_len), needs to be broadcasted to match Q@K.T which is (batch_size, num_head, seq_len, seq_len)\n",
        "      padding_mask = padding_mask.unsqueeze(1).unsqueeze(2)\n",
        "      padding_mask = padding_mask==0\n",
        "      attention_scores = Q @ K.transpose(-2, -1) / math.sqrt(d_model//self.num_heads)\n",
        "      attention_scores = attention_scores.masked_fill(padding_mask, float(\"-inf\"))\n",
        "\n",
        "    else:\n",
        "      attention_scors = Q @ K.transpose(-2, -1) / math.sqrt(d_model//self.num_heads)\n",
        "\n",
        "    # pdb.set_trace()\n",
        "    if causal_mask is not None:\n",
        "      # causal_mask is lower triangular matrix of shape target_seq_len, target_seq_len\n",
        "      causal_mask = causal_mask.unsqueeze(0).unsqueeze(1).to(input.device)\n",
        "      attention_scores = attention_scores.masked_fill(causal_mask, float(\"-inf\"))\n",
        "\n",
        "    attention_weights = F.softmax(attention_scores, dim=-1) @ V # is shape (batch_size, num_head, seq_len, head_dim)\n",
        "    return attention_weights.reshape(batch_size, seq_len, d_model)\n",
        "\n",
        "\n",
        "class MyFeedForwardNetwork(nn.Module):\n",
        "  def __init__(self, d_model, ff_hidden):\n",
        "    super().__init__()\n",
        "    self.layer1 = nn.Linear(d_model, ff_hidden)\n",
        "    self.layer2 = nn.Linear(ff_hidden, d_model)\n",
        "    self.relu = nn.ReLU()\n",
        "\n",
        "  def forward(self, input):\n",
        "    return self.layer2(self.relu(self.layer1(input)))\n",
        "\n",
        "\n",
        "class MyLayerNorm(nn.Module):\n",
        "  def __init__(self, d_model, eps=1e-6):\n",
        "    super().__init__()\n",
        "    self.eps = eps #stabuliser for division\n",
        "\n",
        "    self.gamma = nn.Parameter(torch.ones(d_model))\n",
        "    self.beta = nn.Parameter(torch.zeros(d_model))\n",
        "\n",
        "  def forward(self, input):\n",
        "    mean = input.mean(dim=-1, keepdim=True)\n",
        "    var = input.var(dim=-1, keepdim=True) #keeps broadcasted shape\n",
        "    # pdb.set_trace()\n",
        "    normalised_input = (input - mean)/ torch.sqrt( var+ self.eps)\n",
        "    return self.gamma * normalised_input + self.beta\n",
        "\n",
        "\n",
        "class MyEncoderLayer(nn.Module):\n",
        "  def __init__(self, vocab_size, d_model, num_heads, ff_hidden):\n",
        "    super().__init__()\n",
        "    self.multiheadattention = MyMultiHeadAttention(d_model, num_heads)\n",
        "    self.layer_norm = MyLayerNorm(d_model)\n",
        "    self.layer_norm2 = MyLayerNorm(d_model)\n",
        "    self.ff_network = MyFeedForwardNetwork(d_model, ff_hidden)\n",
        "\n",
        "  def forward(self, input, padding_mask):\n",
        "    attention_weights = self.multiheadattention(input, input, input, padding_mask=padding_mask, causal_mask=None)\n",
        "    resid_conn = input+attention_weights\n",
        "    noramlised_resid_conn = self.layer_norm(resid_conn)\n",
        "    ff_network = self.ff_network(noramlised_resid_conn)\n",
        "    resid_conn2 = noramlised_resid_conn+ff_network\n",
        "    normalised_resid_conn = self.layer_norm2(resid_conn2)\n",
        "    return normalised_resid_conn\n",
        "\n",
        "\n",
        "class MyEncoder(nn.Module):\n",
        "  def __init__(self, vocab_size, max_seq_len, d_model, num_heads, ff_hidden, num_encoder_layers):\n",
        "    super().__init__()\n",
        "    self.embedding_layer = MyEmbedding(d_model, vocab_size)\n",
        "    self.positional_encoding = MyPositionalEncoding(max_seq_len, d_model)\n",
        "    self.encoders_layers = nn.ModuleList([MyEncoderLayer(vocab_size, d_model, num_heads, ff_hidden) for _ in range(num_encoder_layers)])\n",
        "\n",
        "  def forward(self, input, padding_mask):\n",
        "    input = input.long()\n",
        "    embed_input = self.embedding_layer(input)\n",
        "    input = embed_input + self.positional_encoding(input)\n",
        "    for layer in self.encoders_layers:\n",
        "      input = layer(input, padding_mask)\n",
        "    return input\n",
        "\n",
        "\n",
        "class MyOutputLayer(nn.Module):\n",
        "  def __init__(self, d_model, vocab_size):\n",
        "    super().__init__()\n",
        "    self.W_output = nn.Linear(d_model, vocab_size)\n",
        "\n",
        "  def forward(self, input):\n",
        "    return self.W_output(input)\n",
        "\n",
        "class MyDecoderLayer(nn.Module):\n",
        "  def __init__(self, d_model, num_heads, ff_hidden):\n",
        "    super().__init__()\n",
        "\n",
        "    self.multiheadattention = MyMultiHeadAttention(d_model, num_heads)\n",
        "    self.layer_norm = MyLayerNorm(d_model)\n",
        "    self.layer_norm2 = MyLayerNorm(d_model)\n",
        "    self.layer_norm3 = MyLayerNorm(d_model)\n",
        "    self.layer_norm4 = MyLayerNorm(d_model)\n",
        "    self.ff_network = MyFeedForwardNetwork(d_model, ff_hidden)\n",
        "    self.ff_network2 = MyFeedForwardNetwork(d_model, ff_hidden)\n",
        "    self.cross_multiheadattention = MyMultiHeadAttention(d_model, num_heads)\n",
        "\n",
        "  def forward(self, input, encoder_output, padding_mask):\n",
        "    # self attention first\n",
        "    seq_len = input.size(1) # input is batch_size, seq_len\n",
        "    causal_mask = torch.triu(torch.ones(seq_len, seq_len), diagonal=1)\n",
        "    # ocnvert to boolean for the masked_fill() function\n",
        "    causal_mask = causal_mask == 0 # masked_Fill fills the positions with -inf that are True\n",
        "    attention_weights = self.multiheadattention(input, input, input, padding_mask=padding_mask, causal_mask=causal_mask)\n",
        "    resid_conn = input+attention_weights\n",
        "    noramlised_resid_conn = self.layer_norm(resid_conn)\n",
        "    ff_network = self.ff_network(noramlised_resid_conn)\n",
        "    resid_conn2 = noramlised_resid_conn+ff_network\n",
        "    normalised_resid_conn = self.layer_norm2(resid_conn2)\n",
        "\n",
        "    crossattention_weights = self.cross_multiheadattention(normalised_resid_conn, encoder_output, encoder_output, padding_mask=padding_mask)\n",
        "    resid_conn = normalised_resid_conn+crossattention_weights\n",
        "    noramlised_resid_conn = self.layer_norm3(resid_conn)\n",
        "    ff_network = self.ff_network2(noramlised_resid_conn)\n",
        "    resid_conn2 = noramlised_resid_conn+ff_network\n",
        "    normalised_resid_conn = self.layer_norm4(resid_conn2)\n",
        "    return normalised_resid_conn\n",
        "\n",
        "\n",
        "class MyDecoder(nn.Module):\n",
        "  def __init__(self, vocab_size, max_seq_len, d_model, num_heads, ff_hidden, num_decoder_layers):\n",
        "    super().__init__()\n",
        "    self.embedding_layer = MyEmbedding(d_model, vocab_size)\n",
        "    self.positional_encoding = MyPositionalEncoding(max_seq_len, d_model)\n",
        "    self.decoder_layers = nn.ModuleList([MyDecoderLayer(d_model, num_heads, ff_hidden) for _ in range(num_decoder_layers)])\n",
        "    self.output_layer = MyOutputLayer(d_model, vocab_size)\n",
        "\n",
        "  def forward(self, input, encoder_output, padding_mask):\n",
        "    input = input.long()\n",
        "    embed_input = self.embedding_layer(input)\n",
        "    input = embed_input + self.positional_encoding(input)\n",
        "    for layer in self.decoder_layers:\n",
        "      input = layer(input, encoder_output, padding_mask)\n",
        "    logits = self.output_layer(input)\n",
        "    return logits\n",
        "\n",
        "class MyTransformer(nn.Module):\n",
        "  def __init__(self, vocab_size, max_seq_len, d_model, num_heads, ff_hidden, num_encoder_layers, num_decoder_layers):\n",
        "    super().__init__()\n",
        "    self.encoder = MyEncoder(vocab_size, max_seq_len, d_model, num_heads, ff_hidden, num_encoder_layers)\n",
        "    self.decoder = MyDecoder(vocab_size, max_seq_len, d_model, num_heads, ff_hidden, num_decoder_layers)\n",
        "\n",
        "  def forward(self, source, target, source_padding_mask, target_padding_mask):\n",
        "    encoder_output = self.encoder(source, source_padding_mask)\n",
        "    decoder_output = self.decoder(target, encoder_output, target_padding_mask) #raw logits, F.CrossEntropy already does softmax\n",
        "\n",
        "    return decoder_output"
      ],
      "metadata": {
        "id": "gGrtzWzb_u_l"
      },
      "execution_count": 2,
      "outputs": []
    },
    {
      "cell_type": "markdown",
      "source": [],
      "metadata": {
        "id": "sRZb2b9jEca1"
      }
    },
    {
      "cell_type": "code",
      "source": [
        "def loss_function(target, model_output):\n",
        "  # target is (batch_size, seq_len), no embedding, essnetially  label per sample (sample being one of seq_len*batch), ie all positions\n",
        "  # model output is (batch_size, seq_len, vocab_size)\n",
        "  vocab_size = model_output.size(-1)\n",
        "  return F.cross_entropy(model_output.reshape(-1, vocab_size), target.reshape(-1))\n",
        "\n",
        "\n",
        "def generate(model, max_seq_len):\n",
        "  # inference from ready trained model with greedy appraoch\n",
        "  return"
      ],
      "metadata": {
        "id": "12rzMjlrRXed"
      },
      "execution_count": 3,
      "outputs": []
    },
    {
      "cell_type": "markdown",
      "source": [
        "# Training on Huggingface data"
      ],
      "metadata": {
        "id": "iFHTAxwDUdPb"
      }
    },
    {
      "cell_type": "markdown",
      "source": [
        "## Laoding in WMT16 from Huggingface interface"
      ],
      "metadata": {
        "id": "ZIyhs0jDUgU4"
      }
    },
    {
      "cell_type": "code",
      "source": [
        "import torch\n",
        "torch.cuda.is_available()"
      ],
      "metadata": {
        "colab": {
          "base_uri": "https://localhost:8080/"
        },
        "id": "QXD3zdD8Uckv",
        "outputId": "9d5f724e-b1e8-44d4-dc20-bed8dcc46c17"
      },
      "execution_count": 4,
      "outputs": [
        {
          "output_type": "execute_result",
          "data": {
            "text/plain": [
              "True"
            ]
          },
          "metadata": {},
          "execution_count": 4
        }
      ]
    },
    {
      "cell_type": "code",
      "source": [
        "from datasets import load_dataset\n",
        "from transformers import AutoTokenizer"
      ],
      "metadata": {
        "id": "N40zi8cPU04R"
      },
      "execution_count": null,
      "outputs": []
    },
    {
      "cell_type": "code",
      "source": [
        "checkpoint = \"google-t5/t5-small\"\n",
        "tokenizer = AutoTokenizer.from_pretrained(checkpoint)"
      ],
      "metadata": {
        "collapsed": true,
        "id": "o_gMPk4SVEwS"
      },
      "execution_count": null,
      "outputs": []
    },
    {
      "cell_type": "code",
      "source": [
        "dataset = load_dataset('wmt16','de-en', split=\"train[:1%]\")\n"
      ],
      "metadata": {
        "collapsed": true,
        "id": "5ut_0Dq3WUw3"
      },
      "execution_count": null,
      "outputs": []
    },
    {
      "cell_type": "code",
      "source": [
        "def preprocess_function(dataset_sample, tokenizer=tokenizer):\n",
        "  source_seq = tokenizer(dataset_sample[\"translation.de\"], max_length=128, truncation=True, padding=\"max_length\")\n",
        "  target_seq = tokenizer(dataset_sample[\"translation.en\"], max_length=128, truncation=True, padding=\"max_length\")\n",
        "  source_seq[\"labels\"] = target_seq\n",
        "  return source_seq\n",
        "dataset = dataset.flatten()\n",
        "preprocessed_dataset = dataset.map(preprocess_function, batch_size=1000, num_proc=4, remove_columns=[\"translation.de\", \"translation.en\"])"
      ],
      "metadata": {
        "collapsed": true,
        "id": "FIHJ3THeXhbv"
      },
      "execution_count": null,
      "outputs": []
    },
    {
      "cell_type": "code",
      "source": [
        "max_size = 0\n",
        "for batch in train_dataloader:\n",
        "  source_inpt = batch[\"input_ids\"].long()\n",
        "  max_size = max(max_size, source_inpt.size(1))\n",
        "max_size"
      ],
      "metadata": {
        "id": "nJx6rJaEmGs_"
      },
      "execution_count": null,
      "outputs": []
    },
    {
      "cell_type": "code",
      "source": [
        "preprocessed_dataset.set_format(type=\"torch\", columns=[\"input_ids\", \"attention_mask\", \"labels\"])"
      ],
      "metadata": {
        "collapsed": true,
        "id": "G05j7q9BGsXV"
      },
      "execution_count": null,
      "outputs": []
    },
    {
      "cell_type": "code",
      "source": [
        "train_dataloader = DataLoader(preprocessed_dataset, batch_size=10, shuffle=True)"
      ],
      "metadata": {
        "id": "_Jz3gDYUGgMO"
      },
      "execution_count": null,
      "outputs": []
    },
    {
      "cell_type": "code",
      "source": [
        "! export CUDA_LAUNCH_BLOCKING=1"
      ],
      "metadata": {
        "id": "JwdHL7XNdzuc"
      },
      "execution_count": null,
      "outputs": []
    },
    {
      "cell_type": "code",
      "source": [
        "device = torch.device(\"cuda\" if torch.cuda.is_available() else \"cpu\")\n",
        "device"
      ],
      "metadata": {
        "id": "1SOrnm6jk8tA"
      },
      "execution_count": null,
      "outputs": []
    },
    {
      "cell_type": "code",
      "source": [
        "from torch.optim import Adam\n",
        "from torch.utils.data import DataLoader\n",
        "\n",
        "config_params = {\n",
        "    \"d_model\": [20],\n",
        "    \"num_heads\": [4],\n",
        "    \"ff_hidden\": [10],\n",
        "    \"num_encoder_layers\" : [2],\n",
        "    \"num_decoder_layers\": [2],\n",
        "    \"learning_rate\": [1e-4]\n",
        "}\n",
        "device = torch.device(\"cuda\" if torch.cuda.is_available() else \"cpu\")\n",
        "\n",
        "vocab_size = tokenizer.vocab_size\n",
        "max_seq_len = 200 # as set in the preprocess fct\n",
        "num_epochs = 10\n",
        "\n",
        "for d_model in config_params[\"d_model\"]:\n",
        "  for num_heads in config_params[\"num_heads\"]:\n",
        "    for ff_hidden in config_params[\"ff_hidden\"]:\n",
        "      for num_encoder_layers in config_params[\"num_encoder_layers\"]:\n",
        "        for num_decoder_layers in config_params[\"num_decoder_layers\"]:\n",
        "          for lr in config_params[\"learning_rate\"]:\n",
        "            transformer_model = MyTransformer(vocab_size, max_seq_len, d_model, num_heads, ff_hidden, num_encoder_layers, num_decoder_layers)\n",
        "            transformer_model = transformer_model.to(device)\n",
        "            optim = Adam(transformer_model.parameters(), lr=lr)\n",
        "\n",
        "            for epoch in range(num_epochs):\n",
        "              transformer_model.train()\n",
        "              total_loss = 0\n",
        "\n",
        "              for batch in train_dataloader:\n",
        "\n",
        "                source_inpt = batch[\"input_ids\"].long()\n",
        "                source_mask = batch[\"attention_mask\"].long()\n",
        "                target = batch[\"labels\"][\"input_ids\"].long()\n",
        "                loss_fct_target = target[:, 1:] #targets for loss function start after first token\n",
        "                decoder_input = target[:, :-1]\n",
        "\n",
        "\n",
        "                target = target.to(device)\n",
        "\n",
        "                target_mask = batch[\"labels\"][\"attention_mask\"]\n",
        "                target_mask = target_mask.to(device)\n",
        "                target_mask = target_mask[:, :-1] #during training the model should not see the next token\n",
        "                source_inpt = source_inpt.to(device)\n",
        "                source_mask = source_mask.to(device)\n",
        "                decoder_input = decoder_input.to(device)\n",
        "\n",
        "                optim.zero_grad() # reset the gradients\n",
        "                logits = transformer_model(source_inpt, decoder_input, source_mask, target_mask)\n",
        "                loss = loss_function(loss_fct_target, logits)\n",
        "                loss.backward()\n",
        "                optim.step()\n",
        "                total_loss += loss.item()\n",
        "              if epoch % 2 ==0:\n",
        "                print(total_loss//dataset.size(0)) # loss per sample in batch"
      ],
      "metadata": {
        "collapsed": true,
        "id": "jKp100wWXuxK"
      },
      "execution_count": null,
      "outputs": []
    },
    {
      "cell_type": "markdown",
      "source": [],
      "metadata": {
        "id": "RGRx_t6tjmt1"
      }
    },
    {
      "cell_type": "code",
      "source": [
        "test = MyTransformer(vocab_size, max_seq_len, d_model, num_heads, ff_hidden, num_encoder_layers, num_decoder_layers)\n"
      ],
      "metadata": {
        "id": "0i-16f6OcNbd"
      },
      "execution_count": null,
      "outputs": []
    },
    {
      "cell_type": "code",
      "source": [
        "test.to(device)"
      ],
      "metadata": {
        "id": "CCPAKStklJCI"
      },
      "execution_count": null,
      "outputs": []
    },
    {
      "cell_type": "code",
      "source": [
        "for batch in train_dataloader:\n",
        "  source_inpt = batch[\"input_ids\"]\n",
        "  target = batch[\"labels\"][\"input_ids\"]\n",
        "  loss_fct_target = target[:, 1:] #targets for loss function start after first token\n",
        "  decoder_input = target[:, :-1]\n",
        "  print(source_inpt.size())\n",
        "  print(decoder_input.size())\n",
        "  break"
      ],
      "metadata": {
        "id": "Cfw5tAWnizRp"
      },
      "execution_count": null,
      "outputs": []
    },
    {
      "cell_type": "code",
      "source": [],
      "metadata": {
        "id": "SQ6GblP8j7qD"
      },
      "execution_count": null,
      "outputs": []
    }
  ]
}