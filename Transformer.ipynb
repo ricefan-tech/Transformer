{
  "nbformat": 4,
  "nbformat_minor": 0,
  "metadata": {
    "colab": {
      "provenance": [],
      "authorship_tag": "ABX9TyO1B6h8SgEuTKpnjqaDaPmy",
      "include_colab_link": true
    },
    "kernelspec": {
      "name": "python3",
      "display_name": "Python 3"
    },
    "language_info": {
      "name": "python"
    }
  },
  "cells": [
    {
      "cell_type": "markdown",
      "metadata": {
        "id": "view-in-github",
        "colab_type": "text"
      },
      "source": [
        "<a href=\"https://colab.research.google.com/github/ricefan-tech/Transformer/blob/main/Transformer.ipynb\" target=\"_parent\"><img src=\"https://colab.research.google.com/assets/colab-badge.svg\" alt=\"Open In Colab\"/></a>"
      ]
    },
    {
      "cell_type": "code",
      "execution_count": null,
      "metadata": {
        "id": "5piw-2i58b4C"
      },
      "outputs": [],
      "source": []
    },
    {
      "cell_type": "markdown",
      "source": [
        "# Imports"
      ],
      "metadata": {
        "id": "irw8lup7_mTN"
      }
    },
    {
      "cell_type": "code",
      "source": [
        "import torch\n",
        "import torch.nn as nn\n",
        "import math\n",
        "import torch.nn.functional as F"
      ],
      "metadata": {
        "id": "8vIrgeGg_r6D"
      },
      "execution_count": 5,
      "outputs": []
    },
    {
      "cell_type": "markdown",
      "source": [
        "# Transformer skeleton"
      ],
      "metadata": {
        "id": "8Wv7fj0ERRV8"
      }
    },
    {
      "cell_type": "code",
      "source": [
        "class MyEmbedding(nn.Module):\n",
        "  def __init__(self, d_model, vocab_size):\n",
        "    super().__init__()\n",
        "    self.embedding = nn.Embedding(vocab_size, d_model)\n",
        "\n",
        "  def forward(self, input):\n",
        "    return self.embedding(input)\n",
        "\n",
        "class MyPositionalEncoding(nn.Module):\n",
        "  def __init__(self, seq_len, d_model):\n",
        "    super().__init__()\n",
        "    self.positionalEncoding = nn.Linear(seq_len, d_model, bias=False)\n",
        "\n",
        "  def forward(self, input):\n",
        "    return input + self.positionalEncoding\n",
        "\n",
        "class MyMultiHeadAttention(nn.Module):\n",
        "  def __init__(self, d_model, num_heads):\n",
        "    super().__init__()\n",
        "    self.Q_proj = nn.Linear(d_model, d_model, bias=False)\n",
        "    self.K_proj = nn.Linear(d_model, d_model, bias=False)\n",
        "    self.V_proj = nn.Linear(d_model, d_model, bias=False)\n",
        "    self.num_heads = num_heads\n",
        "\n",
        "  def forward(self, q_input, v_input, k_input, padding_mask=None, causal_mask=None):\n",
        "    Q = self.Q_matrix(q_input) # now has shape (batch_size, seq_len, d_model)\n",
        "    K = self.K_proj(k_input)\n",
        "    V = self.V_matrix(v_input)\n",
        "\n",
        "    # before attn score calculation need to reshape into multi head\n",
        "    batch_size, seq_len, d_model = Q.size()\n",
        "    Q = Q.reshape(batch_size, seq_len, self.num_heads, d_model//self.num_heads).transpose(1, 2) #d_model must be divisible by num_heads\n",
        "    K = K.reshape(batch_size, seq_len, self.num_heads, d_model//self.num_heads).transpose(1, 2)\n",
        "    V = V.reshape(batch_size, seq_len, self.num_heads, d_model//self.num_heads).transpose(1, 2)\n",
        "\n",
        "    if padding_mask:\n",
        "      # padding mask is of shape (batch_size, seq_len), needs to be broadcasted to match Q@K.T which is (batch_size, num_head, seq_len, seq_len)\n",
        "      padding_mask = padding_mask.unsqueeze(1).unsqueeze(2)\n",
        "      attention_scores = Q @ K.transpose(-2, -1) / math.sqrt(d_model//self.num_heads)\n",
        "      attention_scores = attention_scores.masked_fill(padding_mask, float(\"-inf\"))\n",
        "\n",
        "    else:\n",
        "      attention_scors = Q @ K.transpose(-2, -1) / math.sqrt(d_model//self.num_heads)\n",
        "\n",
        "    if causal_mask:\n",
        "      # causal_mask is lower triangular matrix of shape target_seq_len, target_seq_len\n",
        "      causal_mask = causal_mask.unsqueeze(1).unsqueeze(2)\n",
        "      attention_scores = attention_scores.masked_fill(causal_mask, float(\"-inf\"))\n",
        "\n",
        "    attention_weights = torch.nn.softmax(attention_scores, dim=-1) @ V # is shape (batch_size, num_head, seq_len, head_dim)\n",
        "    return attention_weights.reshape(batch_size, seq_len, d_model)\n",
        "\n",
        "\n",
        "class MyFeedForwardNetwork(nn.Module):\n",
        "  def __init__(self, d_model, ff_hidden):\n",
        "    super().__init__()\n",
        "    self.layer1 = nn.Linear(d_model, ff_hidden)\n",
        "    self.layer2 = nn.Linear(ff_hidden, d_model)\n",
        "\n",
        "  def forward(self, input):\n",
        "    return self.layer2(nn.ReLU(self.layer1(input)))\n",
        "\n",
        "\n",
        "class MyLayerNorm(nn.Module):\n",
        "  def __init__(self, d_model, eps=1e-6):\n",
        "    super().__init__()\n",
        "    self.eps = eps #stabuliser for division\n",
        "\n",
        "    self.gamma = nn.Parameter(torch.ones(d_model))\n",
        "    self.beta = nn.Parameter(torch.zeros(d_model))\n",
        "\n",
        "  def forward(self, input):\n",
        "    mean = input.mean(dim=-1, keepdim=True)\n",
        "    var = input.var(dim=-1, keepdim=True) #keeps broadcasted shape\n",
        "    normalised_input = (input - mean)/ math.sqrt(var)\n",
        "    return self.gamma * normalised_input + self.beta\n",
        "\n",
        "\n",
        "class MyEncoderLayer(nn.Module):\n",
        "  def __init__(self, vocab_size, seq_len, d_model, num_heads, ff_hidden):\n",
        "    super().__init__()\n",
        "    self.embedding_layer = MyEmbedding(d_model, vocab_size)\n",
        "    self.positional_encoding = MyPositionalEncoding(seq_len, d_model)\n",
        "    self.multiheadattention = MyMultiHeadAttention(d_model, num_heads)\n",
        "    self.layer_norm = MyLayerNorm(d_model, ff_hidden)\n",
        "    self.layer_norm2 = MyLayerNorm(d_model, ff_hidden)\n",
        "    self.ff_network = MyFeedForwardNetwork(d_model)\n",
        "\n",
        "  def forward(self, input, padding_mask):\n",
        "    embedded_input = self.embedding_layer(input)\n",
        "    total_input = self.positional_encoding(embedded_input)\n",
        "    attention_weights = self.multiheadattention(total_input, total_input, total_input, padding_mask=padding_mask, causal_mask=None)\n",
        "    resid_conn = total_input+attention_weights\n",
        "    noramlised_resid_conn = self.layer_norm(resid_conn)\n",
        "    ff_network = self.ff_network(noramlised_resid_conn)\n",
        "    resid_conn2 = noramlised_resid_conn+ff_network\n",
        "    normalised_resid_conn = self.layer_norm2(resid_conn2)\n",
        "    return normalised_resid_conn\n",
        "\n",
        "\n",
        "class MyEncoder(nn.Module):\n",
        "  def __init__(self, vocab_size, seq_len, d_model, num_heads, ff_hidden, num_encoder_layers):\n",
        "    super().__init__()\n",
        "    self.encoders = nn.ModuleList([MyEncoderLayer(vocab_size, seq_len, d_model, num_heads, ff_hidden) for _ in range(num_encoder_layers)])\n",
        "\n",
        "  def forward(self, input, padding_mask):\n",
        "    return self.encoders(input, padding_mask)\n",
        "\n",
        "\n",
        "class MyOutputLayer(nn.Module):\n",
        "  def __init__(self, d_model, vocab_size):\n",
        "    super().__init__()\n",
        "    self.W_output = nn.Linear(d_model, vocab_size)\n",
        "\n",
        "  def forward(self, input):\n",
        "    return self.W_output(input)\n",
        "\n",
        "class MyDecoderLayer(nn.Module):\n",
        "  def __init__(self, vocab_size, seq_len, d_model, num_heads, ff_hidden):\n",
        "    super().__init__()\n",
        "    self.embedding_layer = MyEmbedding(d_model, vocab_size)\n",
        "    self.positional_encoding = MyPositionalEncoding(seq_len, d_model)\n",
        "    self.multiheadattention = MyMultiHeadAttention(d_model, num_heads)\n",
        "    self.layer_norm = MyLayerNorm(d_model, ff_hidden)\n",
        "    self.layer_norm2 = MyLayerNorm(d_model, ff_hidden)\n",
        "    self.layer_norm3 = MyLayerNorm(d_model, ff_hidden)\n",
        "    self.layer_norm4 = MyLayerNorm(d_model, ff_hidden)\n",
        "    self.ff_network = MyFeedForwardNetwork(d_model)\n",
        "    self.ff_network2 = MyFeedForwardNetwork(d_model)\n",
        "    self.cross_multiheadattention = MyMultiHeadAttention(d_model, num_heads)\n",
        "    self.output_layer = MyOutputLayer(d_model, vocab_size)\n",
        "\n",
        "  def forward(self, input, encoder_output, padding_mask)\n",
        "    embedded_input = self.embedding_layer(input)\n",
        "    total_input = self.positional_encoding(embedded_input)\n",
        "    # self attention first\n",
        "    seq_len = input.size(0)\n",
        "    causal_mask = torch.triu(torch.ones(seq_len, seq_len), diagonal=1)\n",
        "    # ocnvert to boolean for the masked_fill() function\n",
        "    causal_mask = causal_mask == 0 # masked_Fill fills the positions with -inf that are True\n",
        "    attention_weights = self.multiheadattention(total_input, total_input, total_input, padding_mask=self.padding_mask, causal_mask=causal_mask)\n",
        "    resid_conn = total_input+attention_weights\n",
        "    noramlised_resid_conn = self.layer_norm(resid_conn)\n",
        "    ff_network = self.ff_network(noramlised_resid_conn)\n",
        "    resid_conn2 = noramlised_resid_conn+ff_network\n",
        "    normalised_resid_conn = self.layer_norm2(resid_conn2)\n",
        "\n",
        "    crossattention_weights = self.cross_multiheadattention(normalised_resid_conn, encoder_output, encoder_output, padding_mask=self.padding_mask)\n",
        "    resid_conn = normalised_resid_conn+crossattention_weights\n",
        "    noramlised_resid_conn = self.layer_norm3(resid_conn)\n",
        "    ff_network = self.ff_network2(noramlised_resid_conn)\n",
        "    resid_conn2 = noramlised_resid_conn+ff_network\n",
        "    normalised_resid_conn = self.layer_norm4(resid_conn2)\n",
        "    return self.output_layer(normalised_resid_conn)\n",
        "\n",
        "\n",
        "class MyDecoder(nn.Module):\n",
        "  def __init__(self, vocab_size, seq_len, d_model, num_heads, ff_hidden, num_decoder_layers):\n",
        "    super().__init__()\n",
        "    self.decoder_layers = nn.ModuleList([MyDecoderLayer(vocab_size, seq_len, d_model, num_heads, ff_hidden) for _ in range(num_decoder_layers)])\n",
        "\n",
        "  def forward(self, input, padding_mask):\n",
        "    return self.decoder_layers(input, padding_mask)\n",
        "\n",
        "\n",
        "class MyTransformer(nn.Module):\n",
        "  def __init__(self, vocab_size, seq_len, d_model, num_heads, ff_hidden, num_encoder_layers, num_decoder_layers):\n",
        "    self.encoder = MyEncoder(vocab_size, seq_len, d_model, num_heads, ff_hidden, num_encoder_layers)\n",
        "    self.decoder = MyDecoder(vocab_size, seq_len, d_model, num_heads, ff_hidden, num_decoder_layers)\n",
        "\n",
        "  def forward(self, source, target, padding_mask, max_seq_len, start_token):\n",
        "    encoder_output = self.encoder(source, padding_mask)\n",
        "    decoder_output = self.decoder(target, encoder_output, padding_mask) #raw logits, F.CrossEntropy already does softmax\n",
        "\n",
        "    return decoder_output"
      ],
      "metadata": {
        "id": "gGrtzWzb_u_l"
      },
      "execution_count": null,
      "outputs": []
    },
    {
      "cell_type": "markdown",
      "source": [],
      "metadata": {
        "id": "sRZb2b9jEca1"
      }
    },
    {
      "cell_type": "code",
      "source": [
        "def loss_function(target, model_output):\n",
        "  # target is (batch_size, seq_len), no embedding, essnetially  label per sample (sample being one of seq_len*batch), ie all positions\n",
        "  # model output is (batch_size, seq_len, vocab_size)\n",
        "  return F.cross_entropy(target.squeeze())\n",
        "\n",
        "\n",
        "def generate(model, max_seq_len):\n",
        "  # inference from ready trained model with greedy appraoch"
      ],
      "metadata": {
        "id": "12rzMjlrRXed"
      },
      "execution_count": null,
      "outputs": []
    }
  ]
}